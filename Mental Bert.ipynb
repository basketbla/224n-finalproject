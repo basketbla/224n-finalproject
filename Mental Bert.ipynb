{
 "cells": [
  {
   "cell_type": "code",
   "execution_count": 1,
   "id": "bd45e973",
   "metadata": {},
   "outputs": [],
   "source": [
    "from transformers import AutoTokenizer, AutoModelForSequenceClassification, AutoModel, BertForSequenceClassification, BertTokenizer\n",
    "import torch"
   ]
  },
  {
   "cell_type": "code",
   "execution_count": 2,
   "id": "eeae7ed1",
   "metadata": {},
   "outputs": [],
   "source": [
    "# tokenizer = AutoTokenizer.from_pretrained(\"mental/mental-bert-base-uncased\")\n",
    "# model = BertForSequenceClassification.from_pretrained(\"mental/mental-bert-base-uncased\")"
   ]
  },
  {
   "cell_type": "code",
   "execution_count": 3,
   "id": "2193ccf4",
   "metadata": {},
   "outputs": [],
   "source": [
    "# tokenizer = AutoTokenizer.from_pretrained(\"bert-base-uncased\")\n",
    "# model = AutoModelForSequenceClassification.from_pretrained(\"bert-base-uncased\")"
   ]
  },
  {
   "cell_type": "code",
   "execution_count": 4,
   "id": "04d60151",
   "metadata": {},
   "outputs": [
    {
     "name": "stderr",
     "output_type": "stream",
     "text": [
      "Some weights of the model checkpoint at mental/mental-roberta-base were not used when initializing RobertaModel: ['lm_head.dense.bias', 'lm_head.bias', 'lm_head.layer_norm.bias', 'lm_head.layer_norm.weight', 'lm_head.dense.weight']\n",
      "- This IS expected if you are initializing RobertaModel from the checkpoint of a model trained on another task or with another architecture (e.g. initializing a BertForSequenceClassification model from a BertForPreTraining model).\n",
      "- This IS NOT expected if you are initializing RobertaModel from the checkpoint of a model that you expect to be exactly identical (initializing a BertForSequenceClassification model from a BertForSequenceClassification model).\n",
      "Some weights of RobertaModel were not initialized from the model checkpoint at mental/mental-roberta-base and are newly initialized: ['roberta.pooler.dense.weight', 'roberta.pooler.dense.bias']\n",
      "You should probably TRAIN this model on a down-stream task to be able to use it for predictions and inference.\n"
     ]
    }
   ],
   "source": [
    "tokenizer = AutoTokenizer.from_pretrained(\"mental/mental-roberta-base\")\n",
    "model = AutoModel.from_pretrained(\"mental/mental-roberta-base\")"
   ]
  },
  {
   "cell_type": "code",
   "execution_count": 5,
   "id": "7796fe75",
   "metadata": {},
   "outputs": [],
   "source": [
    "# # Code from the hugging face tutorial\n",
    "# def print_encoding(model_inputs, indent=4):\n",
    "#     indent_str = \" \" * indent\n",
    "#     print(\"{\")\n",
    "#     for k, v in model_inputs.items():\n",
    "#         print(indent_str + k + \":\")\n",
    "#         print(indent_str + indent_str + str(v))\n",
    "#     print(\"}\")"
   ]
  },
  {
   "cell_type": "code",
   "execution_count": 6,
   "id": "74d0d343",
   "metadata": {},
   "outputs": [],
   "source": [
    "# inputs = \"I am feeling fantastic!\"\n",
    "# tokenized_inputs = tokenizer(inputs, return_tensors=\"pt\")\n",
    "# outputs = model(**tokenized_inputs)\n",
    "\n",
    "# labels = ['NEGATIVE', 'POSITIVE']\n",
    "# prediction = torch.argmax(outputs.logits)\n",
    "\n",
    "\n",
    "# print(\"Input:\")\n",
    "# print(inputs)\n",
    "# print()\n",
    "# print(\"Tokenized Inputs:\")\n",
    "# print_encoding(tokenized_inputs)\n",
    "# print()\n",
    "# print(\"Model Outputs:\")\n",
    "# print(outputs)\n",
    "# print()\n",
    "# print(f\"The prediction is {labels[prediction]}\")"
   ]
  },
  {
   "cell_type": "code",
   "execution_count": 7,
   "id": "0a394176",
   "metadata": {},
   "outputs": [],
   "source": [
    "from datasets import load_dataset, DatasetDict"
   ]
  },
  {
   "cell_type": "code",
   "execution_count": 8,
   "id": "2ff94004",
   "metadata": {},
   "outputs": [],
   "source": [
    "# For cleaning\n",
    "\n",
    "# import csv\n",
    "# with open('total_labeled_nonan.csv', 'w', newline='') as writefile:\n",
    "#     with open('total_labeled_data.csv', newline='') as readfile:\n",
    "#         reader = csv.DictReader(readfile)\n",
    "#         writer = csv.writer(writefile, delimiter=',')\n",
    "#         writer.writerow(['label', 'text'])\n",
    "#         index = 0\n",
    "#         for row in reader:\n",
    "#             if row['post'] != 'nan' and row['post'] != '':\n",
    "#                 writer.writerow([index, row['labels'], row['post']])\n",
    "#                 index += 1\n",
    "            "
   ]
  },
  {
   "cell_type": "code",
   "execution_count": 9,
   "id": "d9f0a249",
   "metadata": {},
   "outputs": [],
   "source": [
    "# Load in reddit data\n",
    "# dataset = load_dataset('csv', data_files='total_labeled_nonan.csv')"
   ]
  },
  {
   "cell_type": "code",
   "execution_count": 10,
   "id": "24f9f8c2",
   "metadata": {},
   "outputs": [
    {
     "name": "stderr",
     "output_type": "stream",
     "text": [
      "Using custom data configuration default-8af1dd697c287706\n",
      "Reusing dataset csv (/home/basketbla/.cache/huggingface/datasets/csv/default-8af1dd697c287706/0.0.0/6b9057d9e23d9d8a2f05b985917a0da84d70c5dae3d22ddd8a3f22fb01c69d9e)\n"
     ]
    },
    {
     "data": {
      "application/vnd.jupyter.widget-view+json": {
       "model_id": "a315b2d55a994c748b0edc7652a29e2e",
       "version_major": 2,
       "version_minor": 0
      },
      "text/plain": [
       "  0%|          | 0/1 [00:00<?, ?it/s]"
      ]
     },
     "metadata": {},
     "output_type": "display_data"
    }
   ],
   "source": [
    "# Using snorkel data instead\n",
    "dataset = load_dataset('csv', data_files='firstPassSnorkelLabels.csv')"
   ]
  },
  {
   "cell_type": "code",
   "execution_count": 11,
   "id": "8de7c3b9",
   "metadata": {},
   "outputs": [],
   "source": [
    "# for x in range(len(dataset['train']['text'])):\n",
    "#     if dataset['train']['text'][x] is None:\n",
    "#         print(x)"
   ]
  },
  {
   "cell_type": "code",
   "execution_count": 12,
   "id": "b749c087",
   "metadata": {},
   "outputs": [],
   "source": [
    "# Take 10000 random examples for train and 2000 validation and 2000 test\n",
    "# dataset = DatasetDict(\n",
    "#     train=dataset['train'].shuffle(seed=1111).select(range(10000)),\n",
    "#     val=dataset['train'].shuffle(seed=1111).select(range(10000, 12000)),\n",
    "#     test=dataset['train'].shuffle(seed=1111).select(range(12000, 14000)),\n",
    "# )"
   ]
  },
  {
   "cell_type": "code",
   "execution_count": 13,
   "id": "e16ddd42",
   "metadata": {},
   "outputs": [
    {
     "name": "stderr",
     "output_type": "stream",
     "text": [
      "Loading cached shuffled indices for dataset at /home/basketbla/.cache/huggingface/datasets/csv/default-8af1dd697c287706/0.0.0/6b9057d9e23d9d8a2f05b985917a0da84d70c5dae3d22ddd8a3f22fb01c69d9e/cache-d35a1bcdd73616e6.arrow\n",
      "Loading cached shuffled indices for dataset at /home/basketbla/.cache/huggingface/datasets/csv/default-8af1dd697c287706/0.0.0/6b9057d9e23d9d8a2f05b985917a0da84d70c5dae3d22ddd8a3f22fb01c69d9e/cache-d35a1bcdd73616e6.arrow\n",
      "Loading cached shuffled indices for dataset at /home/basketbla/.cache/huggingface/datasets/csv/default-8af1dd697c287706/0.0.0/6b9057d9e23d9d8a2f05b985917a0da84d70c5dae3d22ddd8a3f22fb01c69d9e/cache-d35a1bcdd73616e6.arrow\n"
     ]
    }
   ],
   "source": [
    "# For snorkel data: 10000, 1000, 1000 instead\n",
    "dataset = DatasetDict(\n",
    "    train=dataset['train'].shuffle(seed=1111).select(range(10000)),\n",
    "    val=dataset['train'].shuffle(seed=1111).select(range(10000, 11000)),\n",
    "    test=dataset['train'].shuffle(seed=1111).select(range(11000, 12000)),\n",
    ")"
   ]
  },
  {
   "cell_type": "code",
   "execution_count": 14,
   "id": "0f63fa92",
   "metadata": {},
   "outputs": [],
   "source": [
    "# for x in range(len(dataset['train']['text'])):\n",
    "#     if dataset['train']['text'][x] is None:\n",
    "#         print(x)"
   ]
  },
  {
   "cell_type": "code",
   "execution_count": 15,
   "id": "c0d9c13f",
   "metadata": {},
   "outputs": [],
   "source": [
    "BATCH_SIZE = 16"
   ]
  },
  {
   "cell_type": "code",
   "execution_count": 16,
   "id": "5c5b6ce9",
   "metadata": {},
   "outputs": [
    {
     "name": "stderr",
     "output_type": "stream",
     "text": [
      "Loading cached processed dataset at /home/basketbla/.cache/huggingface/datasets/csv/default-8af1dd697c287706/0.0.0/6b9057d9e23d9d8a2f05b985917a0da84d70c5dae3d22ddd8a3f22fb01c69d9e/cache-2f746465b7e0ac9b.arrow\n"
     ]
    },
    {
     "data": {
      "application/vnd.jupyter.widget-view+json": {
       "model_id": "a1ff3cc654a94344a84cb2eff40eb22f",
       "version_major": 2,
       "version_minor": 0
      },
      "text/plain": [
       "  0%|          | 0/63 [00:00<?, ?ba/s]"
      ]
     },
     "metadata": {},
     "output_type": "display_data"
    },
    {
     "name": "stderr",
     "output_type": "stream",
     "text": [
      "Loading cached processed dataset at /home/basketbla/.cache/huggingface/datasets/csv/default-8af1dd697c287706/0.0.0/6b9057d9e23d9d8a2f05b985917a0da84d70c5dae3d22ddd8a3f22fb01c69d9e/cache-a3fd2fb90752fae6.arrow\n"
     ]
    }
   ],
   "source": [
    "small_tokenized_dataset = dataset.map(\n",
    "    lambda example: tokenizer(example['text'], padding=True, truncation=True),\n",
    "    batched=True,\n",
    "    batch_size=BATCH_SIZE\n",
    ")\n",
    "\n",
    "small_tokenized_dataset = small_tokenized_dataset.remove_columns([\"text\"])\n",
    "# Sometimes 'labels' doesn't exist?\n",
    "# small_tokenized_dataset = small_tokenized_dataset.rename_column(\"label\", \"labels\")\n",
    "small_tokenized_dataset.set_format(\"torch\")"
   ]
  },
  {
   "cell_type": "code",
   "execution_count": 17,
   "id": "1d3da0ab",
   "metadata": {},
   "outputs": [],
   "source": [
    "# Tokenize the data\n",
    "# HUGGING FACE ONE, NOT USING\n",
    "\n",
    "# def preprocess_function(examples):\n",
    "#     return tokenizer(examples[\"text\"], truncation=True)\n",
    "\n",
    "# tokenized_dataset = dataset.map(preprocess_function, batched=True)\n",
    "# tokenized_train = dataset[\"train\"].map(preprocess_function, batched=True)\n",
    "# tokenized_val = dataset[\"val\"].map(preprocess_function, batched=True)"
   ]
  },
  {
   "cell_type": "code",
   "execution_count": 18,
   "id": "4094e833",
   "metadata": {},
   "outputs": [],
   "source": [
    "# from transformers import DataCollatorWithPadding\n",
    "\n",
    "# data_collator = DataCollatorWithPadding(tokenizer=tokenizer)\n",
    "# data_collator(tokenized_dataset)"
   ]
  },
  {
   "cell_type": "code",
   "execution_count": 19,
   "id": "817978b2",
   "metadata": {},
   "outputs": [],
   "source": [
    "# Needed for bert base\n",
    "\n",
    "# small_tokenized_dataset = small_tokenized_dataset.remove_columns(['__index_level_0__'])\n",
    "# small_tokenized_dataset = small_tokenized_dataset.remove_columns(['token_type_ids'])"
   ]
  },
  {
   "cell_type": "code",
   "execution_count": 20,
   "id": "47820a0c",
   "metadata": {},
   "outputs": [],
   "source": [
    "from torch.utils.data import DataLoader\n",
    "\n",
    "train_dataloader = DataLoader(small_tokenized_dataset['train'], batch_size=BATCH_SIZE)\n",
    "eval_dataloader = DataLoader(small_tokenized_dataset['val'], batch_size=BATCH_SIZE)"
   ]
  },
  {
   "cell_type": "code",
   "execution_count": 21,
   "id": "e8dc6705",
   "metadata": {},
   "outputs": [],
   "source": [
    "# from transformers import AdamW, get_linear_schedule_with_warmup\n",
    "# from tqdm.notebook import tqdm\n",
    "\n",
    "\n",
    "# model = AutoModelForSequenceClassification.from_pretrained('bert-base-uncased', num_labels=2)\n",
    "# model.cuda()\n",
    "# num_epochs = 3\n",
    "# num_training_steps = 3 * len(train_dataloader)\n",
    "# optimizer = AdamW(model.parameters(), lr=5e-5, weight_decay=0.01)\n",
    "# lr_scheduler = get_linear_schedule_with_warmup(optimizer, num_warmup_steps=0, num_training_steps=num_training_steps)\n",
    "\n",
    "# best_val_loss = float(\"inf\")\n",
    "# progress_bar = tqdm(range(num_training_steps))\n",
    "# for epoch in range(num_epochs):\n",
    "#     # training\n",
    "#     model.train()\n",
    "#     for batch_i, batch in enumerate(train_dataloader):\n",
    "#         batch = {k: v.cuda() for k, v in batch.items()}\n",
    "#         output = model(**batch)\n",
    "        \n",
    "# #         model(batch['input_ids'].cuda(),\n",
    "# #               )\n",
    "        \n",
    "#         optimizer.zero_grad()\n",
    "#         output.loss.backward()\n",
    "#         optimizer.step()\n",
    "#         lr_scheduler.step()\n",
    "#         progress_bar.update(1)\n",
    "    \n",
    "#     # validation\n",
    "#     model.eval()\n",
    "#     val_loss = 0\n",
    "#     for batch_i, batch in enumerate(eval_dataloader):\n",
    "#         batch = {k: v.cuda() for k, v in batch.items()}\n",
    "#         with torch.no_grad():\n",
    "#             output = model(**batch)\n",
    "#         val_loss += output.loss.cpu().detach()\n",
    "    \n",
    "#     avg_val_loss = val_loss / len(eval_dataloader)\n",
    "#     print(f\"Validation loss: {avg_val_loss}\")\n",
    "#     if avg_val_loss < best_val_loss:\n",
    "#         print(\"Saving checkpoint!\")\n",
    "#         best_val_loss = avg_val_loss\n",
    "#         torch.save({\n",
    "#             'epoch': epoch,\n",
    "#             'model_state_dict': model.state_dict(),\n",
    "#             'optimizer_state_dict': optimizer.state_dict(),\n",
    "#             'val_loss': best_val_loss,\n",
    "#             },\n",
    "#             f\"checkpoints/epoch_{epoch}.pt\"\n",
    "#         )  "
   ]
  },
  {
   "cell_type": "code",
   "execution_count": 22,
   "id": "2f5cad3b",
   "metadata": {},
   "outputs": [],
   "source": [
    "# results = model.predict(small_tokenized_dataset['val'])"
   ]
  },
  {
   "cell_type": "code",
   "execution_count": 23,
   "id": "09960ecb",
   "metadata": {},
   "outputs": [],
   "source": [
    "# Trying trainer class instead\n",
    "\n",
    "from transformers import TrainingArguments, Trainer\n",
    "import numpy as np\n",
    "\n",
    "arguments = TrainingArguments(\n",
    "    output_dir=\"mental_roberta_snorkel_trainer\",\n",
    "    per_device_train_batch_size=16,\n",
    "    per_device_eval_batch_size=16,\n",
    "    num_train_epochs=3,\n",
    "    evaluation_strategy=\"epoch\", # run validation at the end of each epoch\n",
    "    save_strategy=\"epoch\",\n",
    "    learning_rate=2e-5,\n",
    "    load_best_model_at_end=True,\n",
    "    seed=224\n",
    ")\n",
    "\n",
    "\n",
    "def compute_metrics(eval_pred):\n",
    "    \"\"\"Called at the end of validation. Gives accuracy\"\"\"\n",
    "    logits, labels = eval_pred\n",
    "    predictions = np.argmax(logits, axis=-1)\n",
    "    # calculates the accuracy\n",
    "    return {\"accuracy\": np.mean(predictions == labels)}\n",
    "\n",
    "\n",
    "trainer = Trainer(\n",
    "    model=model,\n",
    "    args=arguments,\n",
    "    train_dataset=small_tokenized_dataset['train'],\n",
    "    eval_dataset=small_tokenized_dataset['val'], # change to test when you do your final evaluation!\n",
    "    tokenizer=tokenizer,\n",
    "    compute_metrics=compute_metrics\n",
    ")"
   ]
  },
  {
   "cell_type": "code",
   "execution_count": 24,
   "id": "0cac057c",
   "metadata": {},
   "outputs": [
    {
     "name": "stderr",
     "output_type": "stream",
     "text": [
      "The following columns in the training set  don't have a corresponding argument in `RobertaModel.forward` and have been ignored: labels.\n",
      "/anaconda/envs/py38_default/lib/python3.8/site-packages/transformers/optimization.py:306: FutureWarning: This implementation of AdamW is deprecated and will be removed in a future version. Use thePyTorch implementation torch.optim.AdamW instead, or set `no_deprecation_warning=True` to disable this warning\n",
      "  warnings.warn(\n",
      "***** Running training *****\n",
      "  Num examples = 10000\n",
      "  Num Epochs = 3\n",
      "  Instantaneous batch size per device = 16\n",
      "  Total train batch size (w. parallel, distributed & accumulation) = 16\n",
      "  Gradient Accumulation steps = 1\n",
      "  Total optimization steps = 1875\n"
     ]
    },
    {
     "ename": "KeyError",
     "evalue": "'loss'",
     "output_type": "error",
     "traceback": [
      "\u001b[0;31m---------------------------------------------------------------------------\u001b[0m",
      "\u001b[0;31mKeyError\u001b[0m                                  Traceback (most recent call last)",
      "\u001b[0;32m<ipython-input-24-3435b262f1ae>\u001b[0m in \u001b[0;36m<module>\u001b[0;34m\u001b[0m\n\u001b[0;32m----> 1\u001b[0;31m \u001b[0mtrainer\u001b[0m\u001b[0;34m.\u001b[0m\u001b[0mtrain\u001b[0m\u001b[0;34m(\u001b[0m\u001b[0;34m)\u001b[0m\u001b[0;34m\u001b[0m\u001b[0;34m\u001b[0m\u001b[0m\n\u001b[0m",
      "\u001b[0;32m/anaconda/envs/py38_default/lib/python3.8/site-packages/transformers/trainer.py\u001b[0m in \u001b[0;36mtrain\u001b[0;34m(self, resume_from_checkpoint, trial, ignore_keys_for_eval, **kwargs)\u001b[0m\n\u001b[1;32m   1363\u001b[0m                         \u001b[0mtr_loss_step\u001b[0m \u001b[0;34m=\u001b[0m \u001b[0mself\u001b[0m\u001b[0;34m.\u001b[0m\u001b[0mtraining_step\u001b[0m\u001b[0;34m(\u001b[0m\u001b[0mmodel\u001b[0m\u001b[0;34m,\u001b[0m \u001b[0minputs\u001b[0m\u001b[0;34m)\u001b[0m\u001b[0;34m\u001b[0m\u001b[0;34m\u001b[0m\u001b[0m\n\u001b[1;32m   1364\u001b[0m                 \u001b[0;32melse\u001b[0m\u001b[0;34m:\u001b[0m\u001b[0;34m\u001b[0m\u001b[0;34m\u001b[0m\u001b[0m\n\u001b[0;32m-> 1365\u001b[0;31m                     \u001b[0mtr_loss_step\u001b[0m \u001b[0;34m=\u001b[0m \u001b[0mself\u001b[0m\u001b[0;34m.\u001b[0m\u001b[0mtraining_step\u001b[0m\u001b[0;34m(\u001b[0m\u001b[0mmodel\u001b[0m\u001b[0;34m,\u001b[0m \u001b[0minputs\u001b[0m\u001b[0;34m)\u001b[0m\u001b[0;34m\u001b[0m\u001b[0;34m\u001b[0m\u001b[0m\n\u001b[0m\u001b[1;32m   1366\u001b[0m \u001b[0;34m\u001b[0m\u001b[0m\n\u001b[1;32m   1367\u001b[0m                 if (\n",
      "\u001b[0;32m/anaconda/envs/py38_default/lib/python3.8/site-packages/transformers/trainer.py\u001b[0m in \u001b[0;36mtraining_step\u001b[0;34m(self, model, inputs)\u001b[0m\n\u001b[1;32m   1938\u001b[0m \u001b[0;34m\u001b[0m\u001b[0m\n\u001b[1;32m   1939\u001b[0m         \u001b[0;32mwith\u001b[0m \u001b[0mself\u001b[0m\u001b[0;34m.\u001b[0m\u001b[0mautocast_smart_context_manager\u001b[0m\u001b[0;34m(\u001b[0m\u001b[0;34m)\u001b[0m\u001b[0;34m:\u001b[0m\u001b[0;34m\u001b[0m\u001b[0;34m\u001b[0m\u001b[0m\n\u001b[0;32m-> 1940\u001b[0;31m             \u001b[0mloss\u001b[0m \u001b[0;34m=\u001b[0m \u001b[0mself\u001b[0m\u001b[0;34m.\u001b[0m\u001b[0mcompute_loss\u001b[0m\u001b[0;34m(\u001b[0m\u001b[0mmodel\u001b[0m\u001b[0;34m,\u001b[0m \u001b[0minputs\u001b[0m\u001b[0;34m)\u001b[0m\u001b[0;34m\u001b[0m\u001b[0;34m\u001b[0m\u001b[0m\n\u001b[0m\u001b[1;32m   1941\u001b[0m \u001b[0;34m\u001b[0m\u001b[0m\n\u001b[1;32m   1942\u001b[0m         \u001b[0;32mif\u001b[0m \u001b[0mself\u001b[0m\u001b[0;34m.\u001b[0m\u001b[0margs\u001b[0m\u001b[0;34m.\u001b[0m\u001b[0mn_gpu\u001b[0m \u001b[0;34m>\u001b[0m \u001b[0;36m1\u001b[0m\u001b[0;34m:\u001b[0m\u001b[0;34m\u001b[0m\u001b[0;34m\u001b[0m\u001b[0m\n",
      "\u001b[0;32m/anaconda/envs/py38_default/lib/python3.8/site-packages/transformers/trainer.py\u001b[0m in \u001b[0;36mcompute_loss\u001b[0;34m(self, model, inputs, return_outputs)\u001b[0m\n\u001b[1;32m   1980\u001b[0m         \u001b[0;32melse\u001b[0m\u001b[0;34m:\u001b[0m\u001b[0;34m\u001b[0m\u001b[0;34m\u001b[0m\u001b[0m\n\u001b[1;32m   1981\u001b[0m             \u001b[0;31m# We don't use .loss here since the model may return tuples instead of ModelOutput.\u001b[0m\u001b[0;34m\u001b[0m\u001b[0;34m\u001b[0m\u001b[0;34m\u001b[0m\u001b[0m\n\u001b[0;32m-> 1982\u001b[0;31m             \u001b[0mloss\u001b[0m \u001b[0;34m=\u001b[0m \u001b[0moutputs\u001b[0m\u001b[0;34m[\u001b[0m\u001b[0;34m\"loss\"\u001b[0m\u001b[0;34m]\u001b[0m \u001b[0;32mif\u001b[0m \u001b[0misinstance\u001b[0m\u001b[0;34m(\u001b[0m\u001b[0moutputs\u001b[0m\u001b[0;34m,\u001b[0m \u001b[0mdict\u001b[0m\u001b[0;34m)\u001b[0m \u001b[0;32melse\u001b[0m \u001b[0moutputs\u001b[0m\u001b[0;34m[\u001b[0m\u001b[0;36m0\u001b[0m\u001b[0;34m]\u001b[0m\u001b[0;34m\u001b[0m\u001b[0;34m\u001b[0m\u001b[0m\n\u001b[0m\u001b[1;32m   1983\u001b[0m \u001b[0;34m\u001b[0m\u001b[0m\n\u001b[1;32m   1984\u001b[0m         \u001b[0;32mreturn\u001b[0m \u001b[0;34m(\u001b[0m\u001b[0mloss\u001b[0m\u001b[0;34m,\u001b[0m \u001b[0moutputs\u001b[0m\u001b[0;34m)\u001b[0m \u001b[0;32mif\u001b[0m \u001b[0mreturn_outputs\u001b[0m \u001b[0;32melse\u001b[0m \u001b[0mloss\u001b[0m\u001b[0;34m\u001b[0m\u001b[0;34m\u001b[0m\u001b[0m\n",
      "\u001b[0;32m/anaconda/envs/py38_default/lib/python3.8/site-packages/transformers/file_utils.py\u001b[0m in \u001b[0;36m__getitem__\u001b[0;34m(self, k)\u001b[0m\n\u001b[1;32m   2595\u001b[0m         \u001b[0;32mif\u001b[0m \u001b[0misinstance\u001b[0m\u001b[0;34m(\u001b[0m\u001b[0mk\u001b[0m\u001b[0;34m,\u001b[0m \u001b[0mstr\u001b[0m\u001b[0;34m)\u001b[0m\u001b[0;34m:\u001b[0m\u001b[0;34m\u001b[0m\u001b[0;34m\u001b[0m\u001b[0m\n\u001b[1;32m   2596\u001b[0m             \u001b[0minner_dict\u001b[0m \u001b[0;34m=\u001b[0m \u001b[0;34m{\u001b[0m\u001b[0mk\u001b[0m\u001b[0;34m:\u001b[0m \u001b[0mv\u001b[0m \u001b[0;32mfor\u001b[0m \u001b[0;34m(\u001b[0m\u001b[0mk\u001b[0m\u001b[0;34m,\u001b[0m \u001b[0mv\u001b[0m\u001b[0;34m)\u001b[0m \u001b[0;32min\u001b[0m \u001b[0mself\u001b[0m\u001b[0;34m.\u001b[0m\u001b[0mitems\u001b[0m\u001b[0;34m(\u001b[0m\u001b[0;34m)\u001b[0m\u001b[0;34m}\u001b[0m\u001b[0;34m\u001b[0m\u001b[0;34m\u001b[0m\u001b[0m\n\u001b[0;32m-> 2597\u001b[0;31m             \u001b[0;32mreturn\u001b[0m \u001b[0minner_dict\u001b[0m\u001b[0;34m[\u001b[0m\u001b[0mk\u001b[0m\u001b[0;34m]\u001b[0m\u001b[0;34m\u001b[0m\u001b[0;34m\u001b[0m\u001b[0m\n\u001b[0m\u001b[1;32m   2598\u001b[0m         \u001b[0;32melse\u001b[0m\u001b[0;34m:\u001b[0m\u001b[0;34m\u001b[0m\u001b[0;34m\u001b[0m\u001b[0m\n\u001b[1;32m   2599\u001b[0m             \u001b[0;32mreturn\u001b[0m \u001b[0mself\u001b[0m\u001b[0;34m.\u001b[0m\u001b[0mto_tuple\u001b[0m\u001b[0;34m(\u001b[0m\u001b[0;34m)\u001b[0m\u001b[0;34m[\u001b[0m\u001b[0mk\u001b[0m\u001b[0;34m]\u001b[0m\u001b[0;34m\u001b[0m\u001b[0;34m\u001b[0m\u001b[0m\n",
      "\u001b[0;31mKeyError\u001b[0m: 'loss'"
     ]
    }
   ],
   "source": [
    "trainer.train()"
   ]
  },
  {
   "cell_type": "code",
   "execution_count": null,
   "id": "b778571d",
   "metadata": {},
   "outputs": [],
   "source": [
    "# import mlflow\n",
    "# mlflow.end_run()"
   ]
  },
  {
   "cell_type": "code",
   "execution_count": null,
   "id": "31250a78",
   "metadata": {},
   "outputs": [],
   "source": [
    "trainer.train(\"mental_roberta_snorkel_trainer/checkpoint-1875\")"
   ]
  },
  {
   "cell_type": "code",
   "execution_count": null,
   "id": "1063c0a5",
   "metadata": {},
   "outputs": [],
   "source": [
    "# Do predictions on test set\n",
    "results = trainer.predict(small_tokenized_dataset['test'])"
   ]
  },
  {
   "cell_type": "code",
   "execution_count": null,
   "id": "8a8d19b3",
   "metadata": {},
   "outputs": [],
   "source": [
    "# Compute metrics (accuracy, F1, whatever else)\n",
    "from datasets import load_metric\n",
    "\n",
    "preds = [0 if pair[0] > pair[1] else 1 for pair in results.predictions]\n",
    "\n",
    "metric = load_metric(\"accuracy\")\n",
    "metric.add_batch(predictions=preds, references=dataset['test']['labels'])\n",
    "final_score = metric.compute()\n",
    "print(final_score)\n",
    "\n",
    "metric = load_metric(\"f1\")\n",
    "metric.add_batch(predictions=preds, references=dataset['test']['labels'])\n",
    "final_score = metric.compute()\n",
    "print(final_score)\n",
    "\n",
    "metric = load_metric(\"recall\")\n",
    "metric.add_batch(predictions=preds, references=dataset['test']['labels'])\n",
    "final_score = metric.compute()\n",
    "print(final_score)\n",
    "\n"
   ]
  },
  {
   "cell_type": "code",
   "execution_count": null,
   "id": "fe3ec184",
   "metadata": {},
   "outputs": [],
   "source": []
  }
 ],
 "metadata": {
  "kernelspec": {
   "display_name": "Python 3",
   "language": "python",
   "name": "python3"
  },
  "language_info": {
   "codemirror_mode": {
    "name": "ipython",
    "version": 3
   },
   "file_extension": ".py",
   "mimetype": "text/x-python",
   "name": "python",
   "nbconvert_exporter": "python",
   "pygments_lexer": "ipython3",
   "version": "3.8.12"
  }
 },
 "nbformat": 4,
 "nbformat_minor": 5
}
